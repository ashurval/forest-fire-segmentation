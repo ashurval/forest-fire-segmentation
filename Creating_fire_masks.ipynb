{
 "cells": [
  {
   "cell_type": "code",
   "execution_count": null,
   "metadata": {
    "colab": {
     "base_uri": "https://localhost:8080/"
    },
    "id": "PG-tCXJufa9X",
    "outputId": "5bbad853-6998-497b-8342-5f4cad79aa7b"
   },
   "outputs": [
    {
     "name": "stdout",
     "output_type": "stream",
     "text": [
      "Mounted at /content/drive\n"
     ]
    }
   ],
   "source": [
    "from google.colab import drive\n",
    "drive.mount('/content/drive')"
   ]
  },
  {
   "cell_type": "code",
   "execution_count": null,
   "metadata": {
    "id": "skVatsv6IO6v"
   },
   "outputs": [],
   "source": [
    "import cv2\n",
    "\n",
    "import os, shutil\n",
    "from os import listdir\n",
    "from os.path import isfile, join\n",
    "\n",
    "fire_folder = '/content/drive/MyDrive/fire_dataset/images/'\n",
    "OUTPUT_DIR = '/content/drive/MyDrive/fire_dataset/masks/'\n",
    "\n",
    "fire_df = [f for f in listdir(fire_folder)]\n",
    "\n",
    "\n",
    "for i in range(len(fire_df)):\n",
    "  #get an image\n",
    "  img = cv2.imread(fire_folder+fire_df[i])\n",
    "  hsv = cv2.cvtColor(img, cv2.COLOR_BGR2HSV)\n",
    "  mask = cv2.inRange(hsv,(10, 100, 20), (25, 255, 255) )\n",
    "  os.chdir(OUTPUT_DIR)\n",
    "  filename=fire_df[i][:-4]+'_m'+'.png'\n",
    "  cv2.imwrite(filename, mask)"
   ]
  }
 ],
 "metadata": {
  "colab": {
   "name": "Creating_fire_masks.ipynb",
   "provenance": []
  },
  "kernelspec": {
   "display_name": "Python 3",
   "language": "python",
   "name": "python3"
  },
  "language_info": {
   "codemirror_mode": {
    "name": "ipython",
    "version": 3
   },
   "file_extension": ".py",
   "mimetype": "text/x-python",
   "name": "python",
   "nbconvert_exporter": "python",
   "pygments_lexer": "ipython3",
   "version": "3.8.3"
  }
 },
 "nbformat": 4,
 "nbformat_minor": 1
}
